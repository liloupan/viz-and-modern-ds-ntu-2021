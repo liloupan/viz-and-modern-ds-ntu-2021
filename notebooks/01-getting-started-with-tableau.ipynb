{
 "cells": [
  {
   "cell_type": "markdown",
   "metadata": {
    "slideshow": {
     "slide_type": "slide"
    }
   },
   "source": [
    "# Visualization and Modern Data Science\n",
    "\n",
    "> Getting Started with Tableau\n",
    "\n",
    "Kuo, Yao-Jen <yaojenkuo@ntu.edu.tw> from [DATAINPOINT](https://www.datainpoint.com)"
   ]
  },
  {
   "cell_type": "markdown",
   "metadata": {
    "slideshow": {
     "slide_type": "slide"
    }
   },
   "source": [
    "## Getting Tableau Desktop"
   ]
  },
  {
   "cell_type": "markdown",
   "metadata": {
    "slideshow": {
     "slide_type": "subslide"
    }
   },
   "source": [
    "## Tableau Desktop can be easily set up throught step 123\n",
    "\n",
    "1. Download\n",
    "2. Install\n",
    "3. Activate"
   ]
  },
  {
   "cell_type": "markdown",
   "metadata": {
    "slideshow": {
     "slide_type": "subslide"
    }
   },
   "source": [
    "## Download Tableau Desktop from <https://www.tableau.com/tft/activation>"
   ]
  },
  {
   "cell_type": "markdown",
   "metadata": {
    "slideshow": {
     "slide_type": "subslide"
    }
   },
   "source": [
    "## Install Tableau Desktop by...clicking"
   ]
  },
  {
   "cell_type": "markdown",
   "metadata": {
    "slideshow": {
     "slide_type": "subslide"
    }
   },
   "source": [
    "## Activate with product key\n",
    "\n",
    "![Imgur](https://i.imgur.com/4MpR5uX.png?1)"
   ]
  },
  {
   "cell_type": "markdown",
   "metadata": {
    "slideshow": {
     "slide_type": "subslide"
    }
   },
   "source": [
    "## Your student license has been sent to your @ntu.edu.tw email\n",
    "\n",
    "![Imgur](https://i.imgur.com/aFCvARg.png?1)"
   ]
  },
  {
   "cell_type": "markdown",
   "metadata": {
    "slideshow": {
     "slide_type": "subslide"
    }
   },
   "source": [
    "## Register using your @ntu.edu.tw email\n",
    "\n",
    "![Imgur](https://i.imgur.com/tnZMGVQ.png?1)"
   ]
  },
  {
   "cell_type": "markdown",
   "metadata": {
    "slideshow": {
     "slide_type": "subslide"
    }
   },
   "source": [
    "## Now we are all set!\n",
    "\n",
    "![Imgur](https://i.imgur.com/j7Uy0Ui.png?1)"
   ]
  },
  {
   "cell_type": "markdown",
   "metadata": {
    "slideshow": {
     "slide_type": "subslide"
    }
   },
   "source": [
    "## Looking at the Tableau Start page\n",
    "\n",
    "- Connect\n",
    "- Open\n",
    "- Discover"
   ]
  },
  {
   "cell_type": "markdown",
   "metadata": {
    "slideshow": {
     "slide_type": "subslide"
    }
   },
   "source": [
    "## Tableau Start page:  Connect\n",
    "\n",
    "- You use this section when you want to start a new data connection in your Tableau workbook\n",
    "- Tableau Desktop has two editions\n",
    "    - Tableau Desktop Personal Edition is for connections to file‐based data sources like Excel and Microsoft Access\n",
    "    - Tableau Desktop Professional Edition allows you to go beyond the files and additionally connect to databases hosted on servers"
   ]
  },
  {
   "cell_type": "markdown",
   "metadata": {
    "slideshow": {
     "slide_type": "subslide"
    }
   },
   "source": [
    "## Tap Tableau > About for your edition information"
   ]
  },
  {
   "cell_type": "markdown",
   "metadata": {
    "slideshow": {
     "slide_type": "subslide"
    }
   },
   "source": [
    "## Tableau Start page:  Open\n",
    "\n",
    "You use this section to open and continue working on an existing Tableau workbook. The existing workbook can be one that you’ve created or one of the samples that Tableau Software provides for training purposes."
   ]
  },
  {
   "cell_type": "markdown",
   "metadata": {
    "slideshow": {
     "slide_type": "subslide"
    }
   },
   "source": [
    "## Tableau Start page:  Discover\n",
    "\n",
    "This section gives you easy access to training resources as well as news about Tableau."
   ]
  },
  {
   "cell_type": "markdown",
   "metadata": {
    "slideshow": {
     "slide_type": "slide"
    }
   },
   "source": [
    "## Creating Your First Visualization"
   ]
  },
  {
   "cell_type": "markdown",
   "metadata": {
    "slideshow": {
     "slide_type": "subslide"
    }
   },
   "source": [
    "## Visualization requires data\n",
    "\n",
    "<https://mybinder.org/v2/gh/yaojenkuo/viz-and-modern-ds-ntu-2021/HEAD?filepath=datasets%2Fcovid19>"
   ]
  },
  {
   "cell_type": "markdown",
   "metadata": {
    "slideshow": {
     "slide_type": "subslide"
    }
   },
   "source": [
    "## Data source: Center for Systems Science and Engineering (CSSE) at Johns Hopkins University\n",
    "\n",
    "<https://github.com/CSSEGISandData/COVID-19>"
   ]
  },
  {
   "cell_type": "markdown",
   "metadata": {
    "slideshow": {
     "slide_type": "subslide"
    }
   },
   "source": [
    "## Download a text editor to preview your text file data\n",
    "\n",
    "[Download Visual Studio Code](https://code.visualstudio.com/)"
   ]
  },
  {
   "cell_type": "markdown",
   "metadata": {
    "slideshow": {
     "slide_type": "subslide"
    }
   },
   "source": [
    "## Install `Rainbow CSV` extension for a prettier view\n",
    "\n",
    "![Imgur](https://i.imgur.com/jWaeRBB.png?1)"
   ]
  },
  {
   "cell_type": "markdown",
   "metadata": {
    "slideshow": {
     "slide_type": "subslide"
    }
   },
   "source": [
    "## CSV is short for comma-separated values\n",
    "\n",
    "> A comma-separated values (CSV) file is a delimited text file that uses a comma to separate values. Each line of the file is a data record. Each record consists of one or more fields, separated by commas.\n",
    "\n",
    "Source: <https://en.wikipedia.org/wiki/Comma-separated_values>"
   ]
  },
  {
   "cell_type": "markdown",
   "metadata": {
    "slideshow": {
     "slide_type": "subslide"
    }
   },
   "source": [
    "## Connecting to `.csv` file in Tableau\n",
    "\n",
    "Tableau Start page > Connect > To a File > Text file"
   ]
  },
  {
   "cell_type": "markdown",
   "metadata": {
    "slideshow": {
     "slide_type": "subslide"
    }
   },
   "source": [
    "## Understanding data types\n",
    "\n",
    "If you take a close look at the fields that appear in the Data pane, you’ll notice that each of them has an icon to the left of the field name that indicates the type of data that’s contained in the field."
   ]
  },
  {
   "cell_type": "markdown",
   "metadata": {
    "slideshow": {
     "slide_type": "subslide"
    }
   },
   "source": [
    "## Primary data types in Tableau\n",
    "\n",
    "- Number(decimal)\n",
    "- Number(whole)\n",
    "- Date & Time\n",
    "- Date\n",
    "- String\n",
    "- Boolean"
   ]
  },
  {
   "cell_type": "markdown",
   "metadata": {
    "slideshow": {
     "slide_type": "subslide"
    }
   },
   "source": [
    "## Adding filters from upper-right of the Data Source page\n",
    "\n",
    "If you don’t need to base your analysis on the entire data set, you can add a filter to the extract so that Tableau can use the specified subset of the data (which may also improve performance).\n",
    "\n",
    "![Imgur](https://i.imgur.com/TeR5Q2A.png?2)"
   ]
  },
  {
   "cell_type": "markdown",
   "metadata": {
    "slideshow": {
     "slide_type": "subslide"
    }
   },
   "source": [
    "## Adding some filters on different fields\n",
    "\n",
    "- Displaying data of Taiwan.\n",
    "- Displaying data in 2021."
   ]
  },
  {
   "cell_type": "markdown",
   "metadata": {
    "slideshow": {
     "slide_type": "subslide"
    }
   },
   "source": [
    "## Understanding Tableau Worksheets\n",
    "\n",
    "![Imgur](https://i.imgur.com/Lsfhpsi.png?1)"
   ]
  },
  {
   "cell_type": "markdown",
   "metadata": {
    "slideshow": {
     "slide_type": "subslide"
    }
   },
   "source": [
    "## What is a Tableau Worksheet, anyway?\n",
    "\n",
    "Worksheet is the place where you create the visualizations that you’ll use in dashboards and stories."
   ]
  },
  {
   "cell_type": "markdown",
   "metadata": {
    "slideshow": {
     "slide_type": "subslide"
    }
   },
   "source": [
    "## A big picture of our fields\n",
    "\n",
    "1. Dimensions: categorical, discrete\n",
    "2. Measures: numerical, continuous"
   ]
  },
  {
   "cell_type": "markdown",
   "metadata": {
    "slideshow": {
     "slide_type": "subslide"
    }
   },
   "source": [
    "## Each of them has an icon to the left of the field name that indicates the type of data contained in the field"
   ]
  },
  {
   "cell_type": "markdown",
   "metadata": {
    "slideshow": {
     "slide_type": "subslide"
    }
   },
   "source": [
    "## It's time to create our very first visualization...finally\n",
    "\n",
    "Dragging and dropping fields onto either **Columns** or **Rows** controls chart type."
   ]
  },
  {
   "cell_type": "markdown",
   "metadata": {
    "slideshow": {
     "slide_type": "subslide"
    }
   },
   "source": [
    "## Off the record: Tableau pronounces Rows as y-axis, Columns as x-axis\n",
    "\n",
    "![](https://media.giphy.com/media/xL7PDV9frcudO/giphy.gif)\n",
    "\n",
    "Source: <https://giphy.com/>"
   ]
  },
  {
   "cell_type": "markdown",
   "metadata": {
    "slideshow": {
     "slide_type": "subslide"
    }
   },
   "source": [
    "## Creating a horizontal bar plot with descending order\n",
    "\n",
    "- Specify `daily_report` as data source\n",
    "- Dragging `Confirmed` onto Columns\n",
    "- Dragging `Country Region` onto Rows\n",
    "- Click sorted descending"
   ]
  },
  {
   "cell_type": "markdown",
   "metadata": {
    "slideshow": {
     "slide_type": "subslide"
    }
   },
   "source": [
    "## Showing only top 20 confirmed countries\n",
    "\n",
    "- Dragging `Country Regions` onto Filters\n",
    "- Click Top and input condition"
   ]
  },
  {
   "cell_type": "markdown",
   "metadata": {
    "slideshow": {
     "slide_type": "subslide"
    }
   },
   "source": [
    "## Done with our very first Tableau visualization!\n",
    "\n",
    "![](https://media.giphy.com/media/Gf3fU0qPtI6uk/giphy.gif)\n",
    "\n",
    "Source: <https://giphy.com/>"
   ]
  },
  {
   "cell_type": "markdown",
   "metadata": {
    "slideshow": {
     "slide_type": "slide"
    }
   },
   "source": [
    "## Creating Basic Plots with Tableau"
   ]
  },
  {
   "cell_type": "markdown",
   "metadata": {
    "slideshow": {
     "slide_type": "subslide"
    }
   },
   "source": [
    "## Each plot has its own purpose\n",
    "\n",
    "- To explore rankings\n",
    "- To explore correlations\n",
    "- To explore distributions\n",
    "- To explore trends\n",
    "- To explore proportions\n",
    "- To explore values on map"
   ]
  },
  {
   "cell_type": "markdown",
   "metadata": {
    "slideshow": {
     "slide_type": "subslide"
    }
   },
   "source": [
    "## Using bar to explore rankings\n",
    "\n",
    "We've already done it in the previous section."
   ]
  },
  {
   "cell_type": "markdown",
   "metadata": {
    "slideshow": {
     "slide_type": "subslide"
    }
   },
   "source": [
    "## Using scatter plot to explore correlations\n",
    "\n",
    "- Create another worksheet\n",
    "- Specify `daily_report` as data source\n",
    "- Dragging `Confirmed` onto Columns\n",
    "- Dragging `Deaths` onto Rows"
   ]
  },
  {
   "cell_type": "markdown",
   "metadata": {
    "slideshow": {
     "slide_type": "subslide"
    }
   },
   "source": [
    "## Tableau uses `SUM()` on measurements by default\n",
    "\n",
    "- Switch to `Dimension` from `Measure` for both axes\n",
    "- Dragging `Combined Key` onto Label \n",
    "- Done with a scatter"
   ]
  },
  {
   "cell_type": "markdown",
   "metadata": {
    "slideshow": {
     "slide_type": "subslide"
    }
   },
   "source": [
    "## Using histogram to explore distributions\n",
    "\n",
    "- Create another worksheet\n",
    "- Specify `daily_report` as data source\n",
    "- Dragging `Confirmed` onto Columns\n",
    "- Click Show Me then click **histogram**\n",
    "- Done with a histogram"
   ]
  },
  {
   "cell_type": "markdown",
   "metadata": {
    "slideshow": {
     "slide_type": "subslide"
    }
   },
   "source": [
    "## Using line to explore trends\n",
    "\n",
    "- Create another worksheet\n",
    "- Specify `time_series` as data source\n",
    "- Dragging `Date` onto Columns\n",
    "- Dragging `Confirmed` onto Rows\n",
    "- Dragging `Country Region` onto both Filters and Color\n",
    "- Done with a line"
   ]
  },
  {
   "cell_type": "markdown",
   "metadata": {
    "slideshow": {
     "slide_type": "subslide"
    }
   },
   "source": [
    "## Using treemap to explore proportions\n",
    "\n",
    "- Create another worksheet\n",
    "- Specify `daily_report` as data source\n",
    "- Dragging `Country Region, Province State` onto Columns\n",
    "- Dragging `Confirmed` onto Rows\n",
    "- Click Show Me then click **treemaps**\n",
    "- Add a Quick Table Calculation > Percent of Total\n",
    "- Done with a treemap"
   ]
  },
  {
   "cell_type": "markdown",
   "metadata": {
    "slideshow": {
     "slide_type": "subslide"
    }
   },
   "source": [
    "## Add a Quick Table Calculation > Percent of Total\n",
    "\n",
    "![img](https://i.imgur.com/iEXet3J.png?1)"
   ]
  },
  {
   "cell_type": "markdown",
   "metadata": {
    "slideshow": {
     "slide_type": "subslide"
    }
   },
   "source": [
    "## Using map to explore values on map\n",
    "\n",
    "- Create another worksheet\n",
    "- Specify `daily_report` as data source\n",
    "- Dragging `Country Region` onto Columns\n",
    "- Dragging `Confirmed` onto Rows\n",
    "- Click Show Me then click **symbol maps** or **maps**\n",
    "- Done with a map"
   ]
  },
  {
   "cell_type": "markdown",
   "metadata": {
    "slideshow": {
     "slide_type": "subslide"
    }
   },
   "source": [
    "## Understanding Dashboard\n",
    "\n",
    "Bringing different worksheets onto a dashboard allows viewers to see multiple visualizations at once."
   ]
  },
  {
   "cell_type": "markdown",
   "metadata": {
    "slideshow": {
     "slide_type": "subslide"
    }
   },
   "source": [
    "## Gathering all worksheets into a dashboard\n",
    "\n",
    "- Create a new dashboard\n",
    "- Dragging all sheets into it"
   ]
  },
  {
   "cell_type": "markdown",
   "metadata": {
    "slideshow": {
     "slide_type": "subslide"
    }
   },
   "source": [
    "## Done with a simple dashboard\n",
    "\n",
    "\n",
    "![img](https://i.imgur.com/rKW3k1E.png?1)"
   ]
  }
 ],
 "metadata": {
  "celltoolbar": "Slideshow",
  "kernelspec": {
   "display_name": "Python 3",
   "language": "python",
   "name": "python3"
  },
  "language_info": {
   "codemirror_mode": {
    "name": "ipython",
    "version": 3
   },
   "file_extension": ".py",
   "mimetype": "text/x-python",
   "name": "python",
   "nbconvert_exporter": "python",
   "pygments_lexer": "ipython3",
   "version": "3.8.5"
  }
 },
 "nbformat": 4,
 "nbformat_minor": 4
}
